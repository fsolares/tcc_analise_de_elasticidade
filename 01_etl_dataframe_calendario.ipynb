{
 "cells": [
  {
   "cell_type": "markdown",
   "metadata": {},
   "source": [
    "# Contrução do Calendário\n",
    "Como os registros de vendas que serão utilizados neste estudos são de empresas norte americanas, iremos agregar as datas de feriados e datas especiais ao dataframe de vendas e entender o comportamento das vendas nestes períodos.<br>\n",
    "\n",
    "O dados serão adquiridos utilizando a técnica de webscraping no site timeanddate.com, buscando pelo intervalo de 2014 à 2018 (intervalo de registros contidos no dataframe)\n"
   ]
  },
  {
   "cell_type": "markdown",
   "metadata": {},
   "source": [
    "#### Imports"
   ]
  },
  {
   "cell_type": "code",
   "execution_count": 63,
   "metadata": {},
   "outputs": [],
   "source": [
    "import locale\n",
    "import pandas as pd\n",
    "import numpy as np\n",
    "import requests\n",
    "from bs4 import BeautifulSoup as bs\n",
    "from datetime import datetime\n"
   ]
  },
  {
   "cell_type": "markdown",
   "metadata": {},
   "source": [
    "#### Utilizando beatifulSoup para extrair tabela de calendário"
   ]
  },
  {
   "cell_type": "code",
   "execution_count": 47,
   "metadata": {},
   "outputs": [],
   "source": [
    "data = []\n",
    "# Como o time_range do dataframe é de 2014 a 2018, vamos buscar por esses calendários\n",
    "for year in range(2014,2019):\n",
    "    # TODO Buscar informações sobre o pacote request e sobre a função get\n",
    "    #? explicar sobre a manipulação dos anos na string da url\n",
    "    page = (\n",
    "        requests\n",
    "            .get(f'https://www.timeanddate.com/holidays/us/{year}?hol=25')\n",
    "    )\n",
    "\n",
    "    #TODO Buscar informações sobre o BS e sobre as seguintes funções: html.parser, find, find_all\n",
    "    #?  explicar sobre as tags htmls utilizadas na pesquisa.\n",
    "    soup = bs(page.text,'html.parser')\n",
    "\n",
    "    table = soup.find('table')\n",
    "    table_body = table.find('tbody')\n",
    "    rows = table_body.find_all('tr')\n",
    "    for row in rows:\n",
    "        cols = row.find_all(['td','th'])\n",
    "        #? explicar o porque da comparação do comprimento\n",
    "        cols = (\n",
    "            [\n",
    "                f'{el.text.strip()} de {year}' \n",
    "                if len(el.text.strip().split('de')) > 1 \n",
    "                else el.text.strip() \n",
    "                for el in cols\n",
    "                ]\n",
    "        )\n",
    "        data.append([el for el in cols if el])\n",
    "    \n",
    "calendario_us = (\n",
    "    pd.DataFrame(\n",
    "        data\n",
    "        , columns = [\n",
    "            'DATA'\n",
    "            ,'DIA_DA_SEMANA'\n",
    "            ,'FERIADO'\n",
    "            , 'TIPO_FERIADO'\n",
    "            , 'DETALHES'\n",
    "            ]\n",
    "    )\n",
    ")"
   ]
  },
  {
   "cell_type": "markdown",
   "metadata": {},
   "source": [
    "#### Organizando o dataset do calendário\n"
   ]
  },
  {
   "cell_type": "code",
   "execution_count": 48,
   "metadata": {},
   "outputs": [
    {
     "data": {
      "text/html": [
       "<div>\n",
       "<style scoped>\n",
       "    .dataframe tbody tr th:only-of-type {\n",
       "        vertical-align: middle;\n",
       "    }\n",
       "\n",
       "    .dataframe tbody tr th {\n",
       "        vertical-align: top;\n",
       "    }\n",
       "\n",
       "    .dataframe thead th {\n",
       "        text-align: right;\n",
       "    }\n",
       "</style>\n",
       "<table border=\"1\" class=\"dataframe\">\n",
       "  <thead>\n",
       "    <tr style=\"text-align: right;\">\n",
       "      <th></th>\n",
       "      <th>DATA</th>\n",
       "      <th>DIA_DA_SEMANA</th>\n",
       "      <th>FERIADO</th>\n",
       "      <th>TIPO_FERIADO</th>\n",
       "      <th>DETALHES</th>\n",
       "    </tr>\n",
       "  </thead>\n",
       "  <tbody>\n",
       "    <tr>\n",
       "      <th>0</th>\n",
       "      <td>None</td>\n",
       "      <td>None</td>\n",
       "      <td>None</td>\n",
       "      <td>None</td>\n",
       "      <td>None</td>\n",
       "    </tr>\n",
       "    <tr>\n",
       "      <th>1</th>\n",
       "      <td>1 de Jan de 2014</td>\n",
       "      <td>Quarta-feira</td>\n",
       "      <td>New Year's Day</td>\n",
       "      <td>Federal Holiday de 2014</td>\n",
       "      <td>None</td>\n",
       "    </tr>\n",
       "    <tr>\n",
       "      <th>2</th>\n",
       "      <td>4 de Jan de 2014</td>\n",
       "      <td>Sábado</td>\n",
       "      <td>World Braille Day</td>\n",
       "      <td>Worldwide observance de 2014</td>\n",
       "      <td>None</td>\n",
       "    </tr>\n",
       "    <tr>\n",
       "      <th>3</th>\n",
       "      <td>6 de Jan de 2014</td>\n",
       "      <td>Segunda-feira</td>\n",
       "      <td>Epiphany</td>\n",
       "      <td>Christian</td>\n",
       "      <td>None</td>\n",
       "    </tr>\n",
       "    <tr>\n",
       "      <th>4</th>\n",
       "      <td>7 de Jan de 2014</td>\n",
       "      <td>Terça-feira</td>\n",
       "      <td>Orthodox Christmas Day</td>\n",
       "      <td>Orthodox</td>\n",
       "      <td>None</td>\n",
       "    </tr>\n",
       "  </tbody>\n",
       "</table>\n",
       "</div>"
      ],
      "text/plain": [
       "               DATA  DIA_DA_SEMANA                 FERIADO  \\\n",
       "0              None           None                    None   \n",
       "1  1 de Jan de 2014   Quarta-feira          New Year's Day   \n",
       "2  4 de Jan de 2014         Sábado       World Braille Day   \n",
       "3  6 de Jan de 2014  Segunda-feira                Epiphany   \n",
       "4  7 de Jan de 2014    Terça-feira  Orthodox Christmas Day   \n",
       "\n",
       "                   TIPO_FERIADO DETALHES  \n",
       "0                          None     None  \n",
       "1       Federal Holiday de 2014     None  \n",
       "2  Worldwide observance de 2014     None  \n",
       "3                     Christian     None  \n",
       "4                      Orthodox     None  "
      ]
     },
     "execution_count": 48,
     "metadata": {},
     "output_type": "execute_result"
    }
   ],
   "source": [
    "# Mostrando as 5 primeiras linhas do dataframe\n",
    "calendario_us.head()\n"
   ]
  },
  {
   "cell_type": "markdown",
   "metadata": {},
   "source": [
    "Vamos Inicialmente checar os valores missing neste dataframe\n"
   ]
  },
  {
   "cell_type": "code",
   "execution_count": 49,
   "metadata": {},
   "outputs": [
    {
     "data": {
      "text/plain": [
       "DATA               60\n",
       "DIA_DA_SEMANA      60\n",
       "FERIADO            60\n",
       "TIPO_FERIADO       60\n",
       "DETALHES         1812\n",
       "dtype: int64"
      ]
     },
     "execution_count": 49,
     "metadata": {},
     "output_type": "execute_result"
    }
   ],
   "source": [
    "# Observando a quantidade de valores None por coluna\n",
    "calendario_us.isna().sum()\n"
   ]
  },
  {
   "cell_type": "code",
   "execution_count": 50,
   "metadata": {},
   "outputs": [],
   "source": [
    "# Como a data é a coluna mais importante deste dataframe, vamos dropar todas as linhas onde a data seja None.\n",
    "(\n",
    "    calendario_us\n",
    "        .dropna(\n",
    "            subset = ['DATA']\n",
    "            , inplace = True\n",
    "        )\n",
    ")\n"
   ]
  },
  {
   "cell_type": "code",
   "execution_count": 51,
   "metadata": {},
   "outputs": [
    {
     "data": {
      "text/plain": [
       "DATA                0\n",
       "DIA_DA_SEMANA       0\n",
       "FERIADO             0\n",
       "TIPO_FERIADO        0\n",
       "DETALHES         1752\n",
       "dtype: int64"
      ]
     },
     "execution_count": 51,
     "metadata": {},
     "output_type": "execute_result"
    }
   ],
   "source": [
    "# Validando\n",
    "calendario_us.isna().sum()\n"
   ]
  },
  {
   "cell_type": "markdown",
   "metadata": {},
   "source": [
    "Após removermos todas as linhas com dados datas faltantes, mudaremos formato de apresentação da coluna calendario_us['DATA']"
   ]
  },
  {
   "cell_type": "code",
   "execution_count": 52,
   "metadata": {},
   "outputs": [
    {
     "data": {
      "text/plain": [
       "'pt_BR.UTF-8'"
      ]
     },
     "execution_count": 52,
     "metadata": {},
     "output_type": "execute_result"
    }
   ],
   "source": [
    "# Como o formato da data esta especificamente no formato pt_BR, foi necessário mudar o padrão POSIX do python para facilitar a atividade de conversão.\n",
    "locale.setlocale(locale.LC_ALL, \"pt_BR.UTF-8\")"
   ]
  },
  {
   "cell_type": "code",
   "execution_count": 53,
   "metadata": {},
   "outputs": [],
   "source": [
    "# Modificando o formato das datas\n",
    "calendario_us['DATA'] = (\n",
    "    pd.to_datetime(\n",
    "        calendario_us['DATA']\n",
    "            .apply(\n",
    "                lambda x: \n",
    "                datetime.strptime(x, '%d de %b de %Y')\n",
    "            )\n",
    "        ,format= \"%d-%m-%Y\"\n",
    "    )\n",
    ")\n"
   ]
  },
  {
   "cell_type": "markdown",
   "metadata": {},
   "source": [
    "Existem certos feriados que são específicos de um estado ou de uma região dos Estados Unidos, esta informação pode ser obtida na coluna de DETALHES no dataframe calendario_us. Todas as vezes em que a coluna DETALHES for diferente de `None` o feriado é regional ou local.<br>\n",
    "Como não temos informações sobre a região de onde foram feitas as ordens de compra, iremos remover todos os feriados onde a coluna de DETALHES seja diferente de None."
   ]
  },
  {
   "cell_type": "code",
   "execution_count": 81,
   "metadata": {},
   "outputs": [
    {
     "data": {
      "text/html": [
       "<div>\n",
       "<style scoped>\n",
       "    .dataframe tbody tr th:only-of-type {\n",
       "        vertical-align: middle;\n",
       "    }\n",
       "\n",
       "    .dataframe tbody tr th {\n",
       "        vertical-align: top;\n",
       "    }\n",
       "\n",
       "    .dataframe thead th {\n",
       "        text-align: right;\n",
       "    }\n",
       "</style>\n",
       "<table border=\"1\" class=\"dataframe\">\n",
       "  <thead>\n",
       "    <tr style=\"text-align: right;\">\n",
       "      <th></th>\n",
       "      <th>DATA</th>\n",
       "      <th>DIA_DA_SEMANA</th>\n",
       "      <th>FERIADO</th>\n",
       "      <th>TIPO_FERIADO</th>\n",
       "      <th>DETALHES</th>\n",
       "    </tr>\n",
       "  </thead>\n",
       "  <tbody>\n",
       "    <tr>\n",
       "      <th>6</th>\n",
       "      <td>2014-01-08</td>\n",
       "      <td>Quarta-feira</td>\n",
       "      <td>Battle of New Orleans</td>\n",
       "      <td>State Legal Holiday</td>\n",
       "      <td>Louisiana</td>\n",
       "    </tr>\n",
       "    <tr>\n",
       "      <th>11</th>\n",
       "      <td>2014-01-17</td>\n",
       "      <td>Sexta-feira</td>\n",
       "      <td>Lee-Jackson Day</td>\n",
       "      <td>State Holiday</td>\n",
       "      <td>Virginia</td>\n",
       "    </tr>\n",
       "    <tr>\n",
       "      <th>13</th>\n",
       "      <td>2014-01-19</td>\n",
       "      <td>Domingo</td>\n",
       "      <td>Robert E. Lee's Birthday</td>\n",
       "      <td>State Legal Holiday</td>\n",
       "      <td>Florida</td>\n",
       "    </tr>\n",
       "    <tr>\n",
       "      <th>14</th>\n",
       "      <td>2014-01-19</td>\n",
       "      <td>Domingo</td>\n",
       "      <td>Confederate Heroes' Day de 2014</td>\n",
       "      <td>State Holiday</td>\n",
       "      <td>Texas</td>\n",
       "    </tr>\n",
       "    <tr>\n",
       "      <th>16</th>\n",
       "      <td>2014-01-20</td>\n",
       "      <td>Segunda-feira</td>\n",
       "      <td>Robert E. Lee's Birthday</td>\n",
       "      <td>State Holiday</td>\n",
       "      <td>AL, AR, MS</td>\n",
       "    </tr>\n",
       "    <tr>\n",
       "      <th>...</th>\n",
       "      <td>...</td>\n",
       "      <td>...</td>\n",
       "      <td>...</td>\n",
       "      <td>...</td>\n",
       "      <td>...</td>\n",
       "    </tr>\n",
       "    <tr>\n",
       "      <th>2487</th>\n",
       "      <td>2018-12-24</td>\n",
       "      <td>Segunda-feira</td>\n",
       "      <td>Christmas Eve</td>\n",
       "      <td>State Holiday</td>\n",
       "      <td>Arkansas</td>\n",
       "    </tr>\n",
       "    <tr>\n",
       "      <th>2489</th>\n",
       "      <td>2018-12-24</td>\n",
       "      <td>Segunda-feira</td>\n",
       "      <td>Washington's Birthday</td>\n",
       "      <td>State Holiday</td>\n",
       "      <td>Georgia, Indiana</td>\n",
       "    </tr>\n",
       "    <tr>\n",
       "      <th>2490</th>\n",
       "      <td>2018-12-25</td>\n",
       "      <td>Terça-feira</td>\n",
       "      <td>Christmas Day</td>\n",
       "      <td>State Holiday</td>\n",
       "      <td>All</td>\n",
       "    </tr>\n",
       "    <tr>\n",
       "      <th>2493</th>\n",
       "      <td>2018-12-26</td>\n",
       "      <td>Quarta-feira</td>\n",
       "      <td>Day After Christmas Day</td>\n",
       "      <td>State Holiday</td>\n",
       "      <td>KS, NC, SC, TX</td>\n",
       "    </tr>\n",
       "    <tr>\n",
       "      <th>2495</th>\n",
       "      <td>2018-12-31</td>\n",
       "      <td>Segunda-feira</td>\n",
       "      <td>New Year's Eve</td>\n",
       "      <td>State Holiday</td>\n",
       "      <td>LA, MI, WI</td>\n",
       "    </tr>\n",
       "  </tbody>\n",
       "</table>\n",
       "<p>684 rows × 5 columns</p>\n",
       "</div>"
      ],
      "text/plain": [
       "           DATA  DIA_DA_SEMANA                          FERIADO  \\\n",
       "6    2014-01-08   Quarta-feira            Battle of New Orleans   \n",
       "11   2014-01-17    Sexta-feira                  Lee-Jackson Day   \n",
       "13   2014-01-19        Domingo         Robert E. Lee's Birthday   \n",
       "14   2014-01-19        Domingo  Confederate Heroes' Day de 2014   \n",
       "16   2014-01-20  Segunda-feira         Robert E. Lee's Birthday   \n",
       "...         ...            ...                              ...   \n",
       "2487 2018-12-24  Segunda-feira                    Christmas Eve   \n",
       "2489 2018-12-24  Segunda-feira            Washington's Birthday   \n",
       "2490 2018-12-25    Terça-feira                    Christmas Day   \n",
       "2493 2018-12-26   Quarta-feira          Day After Christmas Day   \n",
       "2495 2018-12-31  Segunda-feira                   New Year's Eve   \n",
       "\n",
       "             TIPO_FERIADO          DETALHES  \n",
       "6     State Legal Holiday         Louisiana  \n",
       "11          State Holiday          Virginia  \n",
       "13    State Legal Holiday           Florida  \n",
       "14          State Holiday             Texas  \n",
       "16          State Holiday        AL, AR, MS  \n",
       "...                   ...               ...  \n",
       "2487        State Holiday          Arkansas  \n",
       "2489        State Holiday  Georgia, Indiana  \n",
       "2490        State Holiday               All  \n",
       "2493        State Holiday    KS, NC, SC, TX  \n",
       "2495        State Holiday        LA, MI, WI  \n",
       "\n",
       "[684 rows x 5 columns]"
      ]
     },
     "execution_count": 81,
     "metadata": {},
     "output_type": "execute_result"
    }
   ],
   "source": [
    "# Mostrando os feriados locais e regionais\n",
    "calendario_us[calendario_us['DETALHES'].notna()]"
   ]
  },
  {
   "cell_type": "code",
   "execution_count": 82,
   "metadata": {},
   "outputs": [],
   "source": [
    "# Criando um dataframe apenas com os feriados gerais\n",
    "calendario_us = calendario_us[calendario_us['DETALHES'].isna()]"
   ]
  },
  {
   "cell_type": "markdown",
   "metadata": {},
   "source": [
    "### Exportando o dataframe do calendário devidamente organizado para ser utilizado no próximo notebook"
   ]
  },
  {
   "cell_type": "code",
   "execution_count": 84,
   "metadata": {},
   "outputs": [],
   "source": [
    "calendario_us.to_csv('./dataset/calendario_us.csv',header=True, sep=\";\", index=False, encoding=\"utf-8\")"
   ]
  }
 ],
 "metadata": {
  "interpreter": {
   "hash": "033211f670d8e98cbdcdd7f77750750888615a323e11211b6dd0aa8c45191b23"
  },
  "kernelspec": {
   "display_name": "Python 3.8.8 ('base')",
   "language": "python",
   "name": "python3"
  },
  "language_info": {
   "codemirror_mode": {
    "name": "ipython",
    "version": 3
   },
   "file_extension": ".py",
   "mimetype": "text/x-python",
   "name": "python",
   "nbconvert_exporter": "python",
   "pygments_lexer": "ipython3",
   "version": "3.8.8"
  }
 },
 "nbformat": 4,
 "nbformat_minor": 4
}
