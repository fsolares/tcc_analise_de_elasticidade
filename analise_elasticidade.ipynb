{
 "cells": [
  {
   "cell_type": "markdown",
   "metadata": {},
   "source": [
    "# Análise de Elasticidade"
   ]
  },
  {
   "cell_type": "markdown",
   "metadata": {},
   "source": [
    "#### Imports"
   ]
  },
  {
   "cell_type": "code",
   "execution_count": 20,
   "metadata": {},
   "outputs": [],
   "source": [
    "import pandas as pd\n",
    "import requests\n",
    "from bs4 import BeautifulSoup as bs"
   ]
  },
  {
   "cell_type": "markdown",
   "metadata": {},
   "source": [
    "#### Utilizando beatifulSoup para extrair tabela de calendário"
   ]
  },
  {
   "cell_type": "code",
   "execution_count": 7,
   "metadata": {},
   "outputs": [],
   "source": [
    "df = pd.read_csv('dataset/DatafinitiElectronicsProductsPricingData.csv', sep=',')"
   ]
  },
  {
   "cell_type": "code",
   "execution_count": 35,
   "metadata": {},
   "outputs": [],
   "source": [
    "data = []\n",
    "# Como o time_range do dataframe é de 2014 a 2018, vamos buscar por esses calendários\n",
    "for year in range(2014,2019):\n",
    "    page = requests.get(f'https://www.timeanddate.com/holidays/us/{year}?hol=25')\n",
    "    soup = bs(page.text,'html.parser')\n",
    "\n",
    "    table = soup.find('table')\n",
    "\n",
    "    table_body = table.find('tbody')\n",
    "\n",
    "    rows = table_body.find_all('tr')\n",
    "    for row in rows:\n",
    "        cols = row.find_all(['td','th'])\n",
    "        cols = [f'{el.text.strip()}/{year}' if len(el.text.strip().split('de')) > 1 else el.text.strip() for el in cols]\n",
    "        data.append([el for el in cols if el])"
   ]
  },
  {
   "cell_type": "code",
   "execution_count": 41,
   "metadata": {},
   "outputs": [
    {
     "data": {
      "text/html": [
       "<div>\n",
       "<style scoped>\n",
       "    .dataframe tbody tr th:only-of-type {\n",
       "        vertical-align: middle;\n",
       "    }\n",
       "\n",
       "    .dataframe tbody tr th {\n",
       "        vertical-align: top;\n",
       "    }\n",
       "\n",
       "    .dataframe thead th {\n",
       "        text-align: right;\n",
       "    }\n",
       "</style>\n",
       "<table border=\"1\" class=\"dataframe\">\n",
       "  <thead>\n",
       "    <tr style=\"text-align: right;\">\n",
       "      <th></th>\n",
       "      <th>DATA</th>\n",
       "      <th>DIA_DA_SEMANA</th>\n",
       "      <th>FERIADO</th>\n",
       "      <th>TIPO_FERIADO</th>\n",
       "      <th>DETALHES</th>\n",
       "    </tr>\n",
       "  </thead>\n",
       "  <tbody>\n",
       "    <tr>\n",
       "      <th>0</th>\n",
       "      <td>1 de Jan/2014</td>\n",
       "      <td>Quarta-feira</td>\n",
       "      <td>New Year's Day</td>\n",
       "      <td>Federal Holiday/2014</td>\n",
       "      <td>None</td>\n",
       "    </tr>\n",
       "    <tr>\n",
       "      <th>1</th>\n",
       "      <td>4 de Jan/2014</td>\n",
       "      <td>Sábado</td>\n",
       "      <td>World Braille Day</td>\n",
       "      <td>Worldwide observance/2014</td>\n",
       "      <td>None</td>\n",
       "    </tr>\n",
       "    <tr>\n",
       "      <th>2</th>\n",
       "      <td>6 de Jan/2014</td>\n",
       "      <td>Segunda-feira</td>\n",
       "      <td>Epiphany</td>\n",
       "      <td>Christian</td>\n",
       "      <td>None</td>\n",
       "    </tr>\n",
       "    <tr>\n",
       "      <th>3</th>\n",
       "      <td>7 de Jan/2014</td>\n",
       "      <td>Terça-feira</td>\n",
       "      <td>Orthodox Christmas Day</td>\n",
       "      <td>Orthodox</td>\n",
       "      <td>None</td>\n",
       "    </tr>\n",
       "    <tr>\n",
       "      <th>4</th>\n",
       "      <td>7 de Jan/2014</td>\n",
       "      <td>Terça-feira</td>\n",
       "      <td>International Programmers' Day</td>\n",
       "      <td>Worldwide observance/2014</td>\n",
       "      <td>None</td>\n",
       "    </tr>\n",
       "    <tr>\n",
       "      <th>...</th>\n",
       "      <td>...</td>\n",
       "      <td>...</td>\n",
       "      <td>...</td>\n",
       "      <td>...</td>\n",
       "      <td>...</td>\n",
       "    </tr>\n",
       "    <tr>\n",
       "      <th>2490</th>\n",
       "      <td>25 de Dez/2018</td>\n",
       "      <td>Terça-feira</td>\n",
       "      <td>Christmas Day</td>\n",
       "      <td>Federal Holiday/2018</td>\n",
       "      <td>None</td>\n",
       "    </tr>\n",
       "    <tr>\n",
       "      <th>2491</th>\n",
       "      <td>26 de Dez/2018</td>\n",
       "      <td>Quarta-feira</td>\n",
       "      <td>Kwanzaa (first day)</td>\n",
       "      <td>Observance</td>\n",
       "      <td>None</td>\n",
       "    </tr>\n",
       "    <tr>\n",
       "      <th>2492</th>\n",
       "      <td>26 de Dez/2018</td>\n",
       "      <td>Quarta-feira</td>\n",
       "      <td>Day After Christmas Day</td>\n",
       "      <td>State Holiday</td>\n",
       "      <td>KS, NC, SC, TX</td>\n",
       "    </tr>\n",
       "    <tr>\n",
       "      <th>2493</th>\n",
       "      <td>31 de Dez/2018</td>\n",
       "      <td>Segunda-feira</td>\n",
       "      <td>New Year's Eve</td>\n",
       "      <td>Observance</td>\n",
       "      <td>None</td>\n",
       "    </tr>\n",
       "    <tr>\n",
       "      <th>2494</th>\n",
       "      <td>31 de Dez/2018</td>\n",
       "      <td>Segunda-feira</td>\n",
       "      <td>New Year's Eve</td>\n",
       "      <td>State Holiday</td>\n",
       "      <td>LA, MI, WI</td>\n",
       "    </tr>\n",
       "  </tbody>\n",
       "</table>\n",
       "<p>2495 rows × 5 columns</p>\n",
       "</div>"
      ],
      "text/plain": [
       "                DATA  DIA_DA_SEMANA                         FERIADO  \\\n",
       "0      1 de Jan/2014   Quarta-feira                  New Year's Day   \n",
       "1      4 de Jan/2014         Sábado               World Braille Day   \n",
       "2      6 de Jan/2014  Segunda-feira                        Epiphany   \n",
       "3      7 de Jan/2014    Terça-feira          Orthodox Christmas Day   \n",
       "4      7 de Jan/2014    Terça-feira  International Programmers' Day   \n",
       "...              ...            ...                             ...   \n",
       "2490  25 de Dez/2018    Terça-feira                   Christmas Day   \n",
       "2491  26 de Dez/2018   Quarta-feira             Kwanzaa (first day)   \n",
       "2492  26 de Dez/2018   Quarta-feira         Day After Christmas Day   \n",
       "2493  31 de Dez/2018  Segunda-feira                  New Year's Eve   \n",
       "2494  31 de Dez/2018  Segunda-feira                  New Year's Eve   \n",
       "\n",
       "                   TIPO_FERIADO        DETALHES  \n",
       "0          Federal Holiday/2014            None  \n",
       "1     Worldwide observance/2014            None  \n",
       "2                     Christian            None  \n",
       "3                      Orthodox            None  \n",
       "4     Worldwide observance/2014            None  \n",
       "...                         ...             ...  \n",
       "2490       Federal Holiday/2018            None  \n",
       "2491                 Observance            None  \n",
       "2492              State Holiday  KS, NC, SC, TX  \n",
       "2493                 Observance            None  \n",
       "2494              State Holiday      LA, MI, WI  \n",
       "\n",
       "[2495 rows x 5 columns]"
      ]
     },
     "execution_count": 41,
     "metadata": {},
     "output_type": "execute_result"
    }
   ],
   "source": [
    "pd.DataFrame(data[1:], columns = ['DATA','DIA_DA_SEMANA','FERIADO', 'TIPO_FERIADO', 'DETALHES'])"
   ]
  }
 ],
 "metadata": {
  "interpreter": {
   "hash": "033211f670d8e98cbdcdd7f77750750888615a323e11211b6dd0aa8c45191b23"
  },
  "kernelspec": {
   "display_name": "Python 3.8.8 ('base')",
   "language": "python",
   "name": "python3"
  },
  "language_info": {
   "codemirror_mode": {
    "name": "ipython",
    "version": 3
   },
   "file_extension": ".py",
   "mimetype": "text/x-python",
   "name": "python",
   "nbconvert_exporter": "python",
   "pygments_lexer": "ipython3",
   "version": "3.8.8"
  }
 },
 "nbformat": 4,
 "nbformat_minor": 4
}
